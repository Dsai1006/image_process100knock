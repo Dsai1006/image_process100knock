{
 "cells": [
  {
   "cell_type": "code",
   "execution_count": 1,
   "metadata": {},
   "outputs": [],
   "source": [
    "import numpy as np\n",
    "import cv2\n",
    "import matplotlib.pyplot as plt"
   ]
  },
  {
   "cell_type": "markdown",
   "metadata": {},
   "source": [
    "# Q.21 ヒストグラム正規化"
   ]
  },
  {
   "cell_type": "code",
   "execution_count": 4,
   "metadata": {},
   "outputs": [
    {
     "data": {
      "image/png": "[encoded data removed]",
      "text/plain": [
       "<Figure size 432x288 with 1 Axes>"
      ]
     },
     "metadata": {
      "needs_background": "light"
     },
     "output_type": "display_data"
    }
   ],
   "source": [
    "def hist_norm(img, a=0, b=255):\n",
    "    c = img.min()\n",
    "    d = img.max()\n",
    "    \n",
    "    output = img.copy()\n",
    "    \n",
    "    output = (b-a) / (d-c) * (output - c) + a\n",
    "    output[img < a] = a\n",
    "    output[img > b] = b\n",
    "    \n",
    "    output = output.astype(np.uint8)\n",
    "    \n",
    "    return output\n",
    "\n",
    "img = cv2.imread(\"imori_dark.jpg\").astype(np.float)\n",
    "img = hist_norm(img)\n",
    "cv2.imwrite(\"answers/answer21_1.jpg\", img)\n",
    "\n",
    "plt.hist(img.ravel(), bins=255, rwidth=0.8, range=(0, 255))\n",
    "plt.savefig(\"answers/answer21_2.jpg\")\n",
    "plt.show()"
   ]
  },
  {
   "cell_type": "markdown",
   "metadata": {},
   "source": [
    "# Q.22 ヒストグラム操作"
   ]
  },
  {
   "cell_type": "code",
   "execution_count": 12,
   "metadata": {},
   "outputs": [
    {
     "data": {
      "image/png": "[encoded data removed]",
      "text/plain": [
       "<Figure size 432x288 with 1 Axes>"
      ]
     },
     "metadata": {
      "needs_background": "light"
     },
     "output_type": "display_data"
    }
   ],
   "source": [
    "def hist_mani(img, m0=128, s0=52):\n",
    "    m = np.mean(img)\n",
    "    s = np.std(img)\n",
    "    \n",
    "    output = img.copy()\n",
    "    \n",
    "    output = s0 / s * (img - m) + m0\n",
    "    output = np.clip(output, 0, 255)\n",
    "    output = output.astype(np.uint8)\n",
    "    \n",
    "    return output\n",
    "\n",
    "img = cv2.imread(\"imori_dark.jpg\").astype(np.float)\n",
    "img = hist_mani(img)\n",
    "cv2.imwrite(\"answers/answer22_1.jpg\", img)\n",
    "\n",
    "plt.hist(img.ravel(), bins=255, rwidth=0.8, range=(0, 255))\n",
    "plt.savefig(\"answers/answer22_2.jpg\")\n",
    "plt.show()"
   ]
  },
  {
   "cell_type": "markdown",
   "metadata": {},
   "source": [
    "# Q.23 ヒストグラム平坦化"
   ]
  },
  {
   "cell_type": "code",
   "execution_count": 23,
   "metadata": {
    "scrolled": true
   },
   "outputs": [
    {
     "data": {
      "image/png": "[encoded data removed]",
      "text/plain": [
       "<Figure size 432x288 with 1 Axes>"
      ]
     },
     "metadata": {
      "needs_background": "light"
     },
     "output_type": "display_data"
    }
   ],
   "source": [
    "def hist_heitan(img, z_max=255):\n",
    "    H, W, C = img.shape\n",
    "    S = H * W * C\n",
    "    \n",
    "    output = img.copy()\n",
    "    \n",
    "    sum_h = 0\n",
    "    for i in range(1, 255):\n",
    "        sum_h += len(img[np.where(img == i)])\n",
    "        z_ = z_max / S * sum_h\n",
    "        output[np.where(img == i)] = z_\n",
    "        \n",
    "    output = output.astype(np.uint8)\n",
    "    \n",
    "    return output\n",
    "\n",
    "img = cv2.imread(\"imori.jpg\").astype(np.float)\n",
    "img = hist_heitan(img)\n",
    "cv2.imwrite(\"answers/answer23_1.jpg\", img)\n",
    "\n",
    "plt.hist(img.ravel(), bins=255, rwidth=0.8, range=(0, 255))\n",
    "plt.savefig(\"answers/answer23_2.jpg\")\n",
    "plt.show()"
   ]
  },
  {
   "cell_type": "markdown",
   "metadata": {},
   "source": [
    "# Q.24 ガンマ補正"
   ]
  },
  {
   "cell_type": "code",
   "execution_count": 25,
   "metadata": {},
   "outputs": [
    {
     "data": {
      "text/plain": [
       "True"
      ]
     },
     "execution_count": 25,
     "metadata": {},
     "output_type": "execute_result"
    }
   ],
   "source": [
    "def gamma_correct(img, c=1, g=2.2):\n",
    "    output = img.copy()\n",
    "    \n",
    "    output /= 255\n",
    "    output = (1 / c * output) ** (1 / g)\n",
    "    output *= 255\n",
    "    output = output.astype(np.uint8)\n",
    "    \n",
    "    return output\n",
    "\n",
    "img = cv2.imread(\"imori_gamma.jpg\").astype(np.float)\n",
    "img = gamma_correct(img)\n",
    "cv2.imwrite(\"answers/answer24.jpg\", img)"
   ]
  },
  {
   "cell_type": "markdown",
   "metadata": {},
   "source": [
    "# Q.25最近傍補間"
   ]
  },
  {
   "cell_type": "code",
   "execution_count": 34,
   "metadata": {},
   "outputs": [
    {
     "name": "stdout",
     "output_type": "stream",
     "text": [
      "(192, 192, 3)\n"
     ]
    },
    {
     "data": {
      "text/plain": [
       "True"
      ]
     },
     "execution_count": 34,
     "metadata": {},
     "output_type": "execute_result"
    }
   ],
   "source": [
    "def nearest_neighbor(img, a=1.5):\n",
    "    H, W, C = img.shape\n",
    "    \n",
    "    output = np.zeros((int(H*a), int(W*a), C), dtype=np.float)\n",
    "    \n",
    "    for y in range(int(H*a)):\n",
    "        for x in range(int(W*a)):\n",
    "            output[y, x] = img[int(np.round(y/a)), int(np.round(x/a))]\n",
    "            \n",
    "    output = output.astype(np.uint8)\n",
    "    \n",
    "    return output\n",
    "\n",
    "img = cv2.imread(\"imori.jpg\").astype(np.float)\n",
    "img = nearest_neighbor(img)\n",
    "\n",
    "print(img.shape)\n",
    "\n",
    "cv2.imwrite(\"answers/answer25.jpg\", img)"
   ]
  },
  {
   "cell_type": "markdown",
   "metadata": {},
   "source": [
    "# Q.26 Bi-linear補間"
   ]
  },
  {
   "cell_type": "code",
   "execution_count": null,
   "metadata": {},
   "outputs": [],
   "source": []
  },
  {
   "cell_type": "markdown",
   "metadata": {},
   "source": [
    "# Q.27 Bi-cubic補間"
   ]
  },
  {
   "cell_type": "code",
   "execution_count": null,
   "metadata": {},
   "outputs": [],
   "source": []
  },
  {
   "cell_type": "markdown",
   "metadata": {},
   "source": [
    "# Q.28 アフィン変換(平行移動)"
   ]
  },
  {
   "cell_type": "code",
   "execution_count": null,
   "metadata": {},
   "outputs": [],
   "source": []
  },
  {
   "cell_type": "markdown",
   "metadata": {},
   "source": [
    "# Q.29 アフィン変換(拡大縮小)"
   ]
  },
  {
   "cell_type": "code",
   "execution_count": null,
   "metadata": {},
   "outputs": [],
   "source": []
  },
  {
   "cell_type": "markdown",
   "metadata": {},
   "source": [
    "# Q.30 アフィン変換(回転)"
   ]
  },
  {
   "cell_type": "code",
   "execution_count": null,
   "metadata": {},
   "outputs": [],
   "source": []
  }
 ],
 "metadata": {
  "kernelspec": {
   "display_name": "Python 3",
   "language": "python",
   "name": "python3"
  },
  "language_info": {
   "codemirror_mode": {
    "name": "ipython",
    "version": 3
   },
   "file_extension": ".py",
   "mimetype": "text/x-python",
   "name": "python",
   "nbconvert_exporter": "python",
   "pygments_lexer": "ipython3",
   "version": "3.6.7"
  }
 },
 "nbformat": 4,
 "nbformat_minor": 2
}
