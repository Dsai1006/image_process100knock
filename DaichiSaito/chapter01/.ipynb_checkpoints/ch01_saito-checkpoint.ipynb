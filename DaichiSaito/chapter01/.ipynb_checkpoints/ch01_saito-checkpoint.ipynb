{
 "cells": [
  {
   "cell_type": "code",
   "execution_count": 2,
   "metadata": {},
   "outputs": [],
   "source": [
    "import numpy as np\n",
    "import cv2"
   ]
  },
  {
   "cell_type": "markdown",
   "metadata": {},
   "source": [
    "## Q.1 チャンネル入れ替え"
   ]
  },
  {
   "cell_type": "markdown",
   "metadata": {},
   "source": [
    "opencvはimreadするとRGBが反転したBGRで取り出される"
   ]
  },
  {
   "cell_type": "code",
   "execution_count": null,
   "metadata": {},
   "outputs": [],
   "source": [
    "def RGB2BGR(img):\n",
    "    #色取り出し\n",
    "    red = img[:, :, 2].copy()\n",
    "    green = img[:, :, 1].copy()\n",
    "    blue = img[:, :, 0].copy()\n",
    "    \n",
    "    #色入れ替え\n",
    "    img[:, :, 0] = red\n",
    "    img[:, :, 1] = green\n",
    "    img[:, :, 2] = blue\n",
    "\n",
    "    return img\n",
    "\n",
    "img = cv2.imread(\"imori.jpg\")\n",
    "img = RGB2BGR(img)\n",
    "\n",
    "#ファイル書き出し\n",
    "cv2.imwrite(\"answer1.jpg\", img)\n",
    "\n",
    "\n",
    "#画像見る\n",
    "#cv2.imshow(\"result\", img)\n",
    "#cv2.waitKey(0)\n",
    "#cv2.destroyAllWindows()"
   ]
  },
  {
   "cell_type": "markdown",
   "metadata": {},
   "source": [
    "## opencvでの書き方"
   ]
  },
  {
   "cell_type": "code",
   "execution_count": 2,
   "metadata": {
    "scrolled": true
   },
   "outputs": [
    {
     "data": {
      "text/plain": [
       "True"
      ]
     },
     "execution_count": 2,
     "metadata": {},
     "output_type": "execute_result"
    }
   ],
   "source": [
    "img = cv2.imread(\"imori.jpg\")\n",
    "\n",
    "img = cv2.cvtColor(img, cv2.COLOR_BGR2RGB)\n",
    "\n",
    "cv2.imwrite(\"answer1.jpg\", img)"
   ]
  },
  {
   "cell_type": "markdown",
   "metadata": {},
   "source": [
    " # Q.2 グレースケール化"
   ]
  },
  {
   "cell_type": "code",
   "execution_count": 7,
   "metadata": {},
   "outputs": [
    {
     "data": {
      "text/plain": [
       "True"
      ]
     },
     "execution_count": 7,
     "metadata": {},
     "output_type": "execute_result"
    }
   ],
   "source": [
    "def RGB2GRAY(img):\n",
    "    #色取り出し\n",
    "    red = img[:, :, 2].copy()\n",
    "    green = img[:, :, 1].copy()\n",
    "    blue = img[:, :, 0].copy()\n",
    "    \n",
    "    img = 0.2126*red + 0.7152*green + 0.0722*blue\n",
    "    img = img.astype(np.uint8)\n",
    "    \n",
    "    return img\n",
    "\n",
    "img = cv2.imread(\"imori.jpg\")\n",
    "img = RGB2GRAY(img)\n",
    "\n",
    "cv2.imwrite(\"answer2.jpg\", img)"
   ]
  },
  {
   "cell_type": "markdown",
   "metadata": {},
   "source": [
    "## opencvでの書き方"
   ]
  },
  {
   "cell_type": "code",
   "execution_count": 8,
   "metadata": {},
   "outputs": [
    {
     "data": {
      "text/plain": [
       "True"
      ]
     },
     "execution_count": 8,
     "metadata": {},
     "output_type": "execute_result"
    }
   ],
   "source": [
    "img = cv2.imread(\"imori.jpg\")\n",
    "\n",
    "img = cv2.cvtColor(img, cv2.COLOR_BGR2GRAY)\n",
    "\n",
    "cv2.imwrite(\"answer2.jpg\", img)"
   ]
  },
  {
   "cell_type": "markdown",
   "metadata": {},
   "source": [
    "# Q.3 二値化"
   ]
  },
  {
   "cell_type": "code",
   "execution_count": 11,
   "metadata": {},
   "outputs": [
    {
     "data": {
      "text/plain": [
       "True"
      ]
     },
     "execution_count": 11,
     "metadata": {},
     "output_type": "execute_result"
    }
   ],
   "source": [
    "def RGB2GRAY(img):\n",
    "    #色取り出し\n",
    "    red = img[:, :, 2].copy()\n",
    "    green = img[:, :, 1].copy()\n",
    "    blue = img[:, :, 0].copy()\n",
    "    \n",
    "    img = 0.2126*red + 0.7152*green + 0.0722*blue\n",
    "    img = img.astype(np.uint8)\n",
    "    \n",
    "    return img\n",
    "\n",
    "def binarization(img, th=128):\n",
    "    #グレースケール\n",
    "    img = RGB2GRAY(img)\n",
    "    \n",
    "    #np.where(条件式, Trueの場合, falseの場合)\n",
    "    img = np.where(img < th, 0, 255)\n",
    "    \n",
    "    return img\n",
    "\n",
    "img = cv2.imread(\"imori.jpg\")\n",
    "img = binarization(img)\n",
    "\n",
    "cv2.imwrite(\"answer3.jpg\", img)"
   ]
  },
  {
   "cell_type": "markdown",
   "metadata": {},
   "source": [
    "## opencvの場合"
   ]
  },
  {
   "cell_type": "code",
   "execution_count": 19,
   "metadata": {},
   "outputs": [
    {
     "data": {
      "text/plain": [
       "True"
      ]
     },
     "execution_count": 19,
     "metadata": {},
     "output_type": "execute_result"
    }
   ],
   "source": [
    "img = cv2.imread(\"imori.jpg\")\n",
    "\n",
    "#まずはグレースケール化\n",
    "img = cv2.cvtColor(img, cv2.COLOR_BGR2GRAY)\n",
    "\n",
    "#閾値処理\n",
    "threshold = 128\n",
    "ret, img = cv2.threshold(img, threshold, 255, cv2.THRESH_BINARY)\n",
    "\n",
    "cv2.imwrite(\"answer3.jpg\", img)"
   ]
  },
  {
   "cell_type": "code",
   "execution_count": 21,
   "metadata": {},
   "outputs": [
    {
     "name": "stdout",
     "output_type": "stream",
     "text": [
      "128.0\n"
     ]
    }
   ],
   "source": [
    "#ちなみにretは何だろう -> 閾値が返ってくる\n",
    "print(ret)"
   ]
  },
  {
   "cell_type": "markdown",
   "metadata": {},
   "source": [
    "# 大津の二値化"
   ]
  },
  {
   "cell_type": "code",
   "execution_count": 35,
   "metadata": {},
   "outputs": [
    {
     "name": "stdout",
     "output_type": "stream",
     "text": [
      "threshold =  127\n"
     ]
    },
    {
     "data": {
      "text/plain": [
       "True"
      ]
     },
     "execution_count": 35,
     "metadata": {},
     "output_type": "execute_result"
    }
   ],
   "source": [
    "def RGB2GRAY(img):\n",
    "    #色取り出し\n",
    "    red = img[:, :, 2].copy()\n",
    "    green = img[:, :, 1].copy()\n",
    "    blue = img[:, :, 0].copy()\n",
    "    \n",
    "    img = 0.2126*red + 0.7152*green + 0.0722*blue\n",
    "    img = img.astype(np.uint8)\n",
    "    \n",
    "    return img\n",
    "\n",
    "def otsu_binarization(img):\n",
    "    max_Sb = 0\n",
    "    max_t = 0\n",
    "    \n",
    "    img = RGB2GRAY(img)\n",
    "    \n",
    "    height = img.shape[0]\n",
    "    width = img.shape[1]\n",
    "    \n",
    "    for th in range(1, 255):\n",
    "        cls0 = img[img < th]\n",
    "        cls1 = img[img >= th]\n",
    "        \n",
    "        w0 = len(cls0) / (height * width)\n",
    "        w1 = len(cls1) / (height * width)\n",
    "        \n",
    "        M0  = np.mean(cls0) if len(cls0) > 0 else 0\n",
    "        M1 = np.mean(cls1) if len(cls1) > 0 else 0\n",
    "        \n",
    "        Sb = w0 * w1 * (M0 - M1)**2\n",
    "        \n",
    "        if max_Sb < Sb:\n",
    "            max_Sb = Sb\n",
    "            max_t = th\n",
    "            \n",
    "    #閾値処理\n",
    "    print(\"threshold = \", max_t)\n",
    "    img = np.where(img < max_t, 0, 255)\n",
    "    \n",
    "    return img\n",
    "\n",
    "img = cv2.imread(\"imori.jpg\")\n",
    "img = otsu_binarization(img)\n",
    "\n",
    "cv2.imwrite(\"answer4.jpg\", img)"
   ]
  },
  {
   "cell_type": "markdown",
   "metadata": {},
   "source": [
    "## opencvの場合"
   ]
  },
  {
   "cell_type": "code",
   "execution_count": 36,
   "metadata": {},
   "outputs": [
    {
     "name": "stdout",
     "output_type": "stream",
     "text": [
      "threshold =  129.0\n"
     ]
    }
   ],
   "source": [
    "img = cv2.imread(\"imori.jpg\")\n",
    "\n",
    "#まずはグレースケール化\n",
    "img = cv2.cvtColor(img, cv2.COLOR_BGR2GRAY)\n",
    "\n",
    "#閾値処理\n",
    "ret, img = cv2.threshold(img, 0, 255, cv2.THRESH_BINARY+cv2.THRESH_OTSU)\n",
    "\n",
    "cv2.imwrite(\"answer4.jpg\", img)\n",
    "print(\"threshold = \", ret)"
   ]
  },
  {
   "cell_type": "markdown",
   "metadata": {},
   "source": [
    "thresholdの値が違うものになった...."
   ]
  },
  {
   "cell_type": "markdown",
   "metadata": {},
   "source": [
    "# Q.5 HSV変換"
   ]
  },
  {
   "cell_type": "code",
   "execution_count": 110,
   "metadata": {},
   "outputs": [
    {
     "data": {
      "text/plain": [
       "True"
      ]
     },
     "execution_count": 110,
     "metadata": {},
     "output_type": "execute_result"
    }
   ],
   "source": [
    "def BGR2HSV(img):\n",
    "    img = img.copy() / 255\n",
    "    \n",
    "    #np.zeros_like(img) imgと同じサイズの要素0のnumpy配列作成\n",
    "    hsv = np.zeros_like(img, dtype=np.float32)\n",
    "    \n",
    "    max_v = np.max(img, axis=2).copy()\n",
    "    min_v = np.min(img, axis=2).copy()\n",
    "    min_arg = np.argmin(img, axis=2)\n",
    "    \n",
    "    #Hue(色相)\n",
    "    hsv[:, :, 0][np.where(max_v == min_v)] = 0\n",
    "    \n",
    "    ## if min==B\n",
    "    index = np.where(min_arg==0)\n",
    "    hsv[:, :, 0][index] = 60 * (img[:, :, 1][index] - img[:, :, 2][index]) / (max_v[index] - min_v[index]) + 60\n",
    "    \n",
    "    ## if min==R\n",
    "    index = np.where(min_arg==2)\n",
    "    hsv[:, :, 0][index] = 60 * (img[:, :, 0][index] - img[:, :, 1][index]) / (max_v[index] - min_v[index]) + 180\n",
    "    \n",
    "    ## if min==G\n",
    "    index = np.where(min_arg==1)\n",
    "    hsv[:, :, 0][index] = 60 * (img[:, :, 2][index] - img[:, :, 0][index]) / (max_v[index] - min_v[index]) + 300\n",
    "    \n",
    "    #Saturation(彩度)\n",
    "    hsv[:, :, 1] = max_v.copy() - min_v.copy()\n",
    "    \n",
    "    #Value(明度)\n",
    "    hsv[:, :, 2] = max_v.copy()\n",
    "    \n",
    "    return hsv\n",
    "\n",
    "def HSV2BGR(hsv):\n",
    "    output = np.zeros_like(hsv)\n",
    "    \n",
    "    H = hsv[:, :, 0]\n",
    "    S = hsv[:, :, 1]\n",
    "    V = hsv[:, :, 2]\n",
    "    \n",
    "    C = S\n",
    "    H_ = H / 60\n",
    "    X = C * (1 - np.abs(H_ % 2 - 1))\n",
    "    Z = np.zeros_like(H)\n",
    "    \n",
    "    vals = [[Z,X,C], [Z,C,X], [X,C,Z], [C,X,Z], [C,Z,X], [X,Z,C]]\n",
    "    \n",
    "    for i in range(6):\n",
    "        #andは使えない\n",
    "        index = np.where((i <= H_) & (H_ < (i+1)))\n",
    "        output[:, :, 0][index] = (V-C)[index] + vals[i][0][index]\n",
    "        output[:, :, 1][index] = (V-C)[index] + vals[i][1][index]\n",
    "        output[:, :, 2][index] = (V-C)[index] + vals[i][2][index]\n",
    "        \n",
    "    #np.clip()は数値を範囲内に収める\n",
    "    output = np.clip(output, 0, 1)    \n",
    "    output = (output * 255).astype(np.uint8)\n",
    "    \n",
    "    return output\n",
    "\n",
    "\n",
    "img = cv2.imread(\"imori.jpg\")\n",
    "hsv = BGR2HSV(img)\n",
    "\n",
    "hsv[:, :, 0] = (hsv[:, :, 0] + 180) % 360\n",
    "\n",
    "img = HSV2BGR(hsv)\n",
    "\n",
    "cv2.imwrite(\"answer5.jpg\", img)"
   ]
  },
  {
   "cell_type": "markdown",
   "metadata": {},
   "source": [
    "## opencvの場合"
   ]
  },
  {
   "cell_type": "code",
   "execution_count": 95,
   "metadata": {},
   "outputs": [
    {
     "data": {
      "text/plain": [
       "True"
      ]
     },
     "execution_count": 95,
     "metadata": {},
     "output_type": "execute_result"
    }
   ],
   "source": [
    "img = cv2.imread(\"imori.jpg\")\n",
    "\n",
    "hsv = cv2.cvtColor(img, cv2.COLOR_BGR2HSV)\n",
    "hsv[:, :, 0] = (hsv[:, :, 0] + 180) % 360\n",
    "img = cv2.cvtColor(hsv, cv2.COLOR_HSV2BGR)\n",
    "\n",
    "cv2.imwrite(\"answer5.jpg\", img)"
   ]
  },
  {
   "cell_type": "markdown",
   "metadata": {},
   "source": [
    "# Q.6 減色処理"
   ]
  },
  {
   "cell_type": "code",
   "execution_count": 38,
   "metadata": {},
   "outputs": [
    {
     "data": {
      "text/plain": [
       "True"
      ]
     },
     "execution_count": 38,
     "metadata": {},
     "output_type": "execute_result"
    }
   ],
   "source": [
    "def gensyoku(img):\n",
    "    img = img // 64 * 64 + 32\n",
    "    return img\n",
    "\n",
    "img = cv2.imread(\"imori.jpg\")\n",
    "img = gensyoku(img)\n",
    "cv2.imwrite(\"answer6.jpg\", img)"
   ]
  },
  {
   "cell_type": "markdown",
   "metadata": {},
   "source": [
    "## opencvの場合"
   ]
  },
  {
   "cell_type": "markdown",
   "metadata": {},
   "source": [
    "わかりませんでした。"
   ]
  },
  {
   "cell_type": "markdown",
   "metadata": {},
   "source": [
    "# Q.7 平均プーリング"
   ]
  },
  {
   "cell_type": "code",
   "execution_count": 48,
   "metadata": {
    "scrolled": true
   },
   "outputs": [
    {
     "data": {
      "text/plain": [
       "True"
      ]
     },
     "execution_count": 48,
     "metadata": {},
     "output_type": "execute_result"
    }
   ],
   "source": [
    "def mean_pooling(img):\n",
    "    for i in range(0, 128//8):\n",
    "        for j in range(0, 128//8):\n",
    "            for k in range(0, 3):\n",
    "                tmp = img[8*i:8*(i+1), 8*j:8*(j+1), k].copy()\n",
    "                mean = np.mean(tmp)\n",
    "                img[8*i:8*(i+1), 8*j:8*(j+1), k] = mean\n",
    "    \n",
    "    return img\n",
    "\n",
    "img = cv2.imread(\"imori.jpg\")\n",
    "img = mean_pooling(img)\n",
    "cv2.imwrite(\"answer7.jpg\", img)"
   ]
  },
  {
   "cell_type": "markdown",
   "metadata": {},
   "source": [
    "## opencvの場合"
   ]
  },
  {
   "cell_type": "markdown",
   "metadata": {},
   "source": [
    "存在しなくね？"
   ]
  },
  {
   "cell_type": "markdown",
   "metadata": {},
   "source": [
    "# Q.8 Maxプーリング"
   ]
  },
  {
   "cell_type": "code",
   "execution_count": 50,
   "metadata": {},
   "outputs": [
    {
     "data": {
      "text/plain": [
       "True"
      ]
     },
     "execution_count": 50,
     "metadata": {},
     "output_type": "execute_result"
    }
   ],
   "source": [
    "def max_pooling(img):\n",
    "    for i in range(0, 128//8):\n",
    "        for j in range(0, 128//8):\n",
    "            for k in range(0, 3):\n",
    "                tmp = img[8*i:8*(i+1), 8*j:8*(j+1), k].copy()\n",
    "                tmp = np.max(tmp)\n",
    "                img[8*i:8*(i+1), 8*j:8*(j+1), k] = tmp\n",
    "    \n",
    "    return img\n",
    "\n",
    "img = cv2.imread(\"imori.jpg\")\n",
    "img = max_pooling(img)\n",
    "cv2.imwrite(\"answer8.jpg\", img)"
   ]
  },
  {
   "cell_type": "markdown",
   "metadata": {},
   "source": [
    "## opencvの場合"
   ]
  },
  {
   "cell_type": "markdown",
   "metadata": {},
   "source": [
    "存在しなくね？"
   ]
  },
  {
   "cell_type": "markdown",
   "metadata": {},
   "source": [
    "# Q.9 ガウシアンフィルタ"
   ]
  },
  {
   "cell_type": "code",
   "execution_count": 3,
   "metadata": {},
   "outputs": [
    {
     "data": {
      "text/plain": [
       "True"
      ]
     },
     "execution_count": 3,
     "metadata": {},
     "output_type": "execute_result"
    }
   ],
   "source": [
    "def gaussian(x, y, s):\n",
    "    return 1 / (s*np.sqrt(2*np.pi)) * np.exp(-(x**2 + y**2) / (2*s**2))\n",
    "\n",
    "def gaussian_filter(img):\n",
    "    H, W, C = img.shape\n",
    "    \n",
    "    #zero padding\n",
    "    output = np.zeros((H+2, W+2, C), dtype=np.float)\n",
    "    output[1:1+H, 1:1+W] = img.copy().astype(np.float)\n",
    "    \n",
    "    #kernel作り\n",
    "    kernel = np.zeros((3, 3), dtype=np.float)\n",
    "    for x in range(-1, 2):\n",
    "        for y in range(-1, 2):\n",
    "            kernel[x+1, y+1] = gaussian(x, y, 1.3)\n",
    "    kernel /= kernel.sum()\n",
    "    \n",
    "    tmp = output.copy()\n",
    "    \n",
    "    #filtering\n",
    "    for i in range(H):\n",
    "        for j in range(W):\n",
    "            for k in range(0, 3):\n",
    "                tmp[i+1, j+1, k] = np.sum(kernel * tmp[i:i+3, j:j+3, k])\n",
    "     \n",
    "    output = tmp[1:H+1, 1:W+1].astype(np.uint8)\n",
    "    \n",
    "    return output\n",
    "\n",
    "img = cv2.imread(\"imori_noise.jpg\")\n",
    "img = gaussian_filter(img)\n",
    "cv2.imwrite(\"answer9.jpg\", img)"
   ]
  },
  {
   "cell_type": "markdown",
   "metadata": {},
   "source": [
    "## opencvの場合"
   ]
  },
  {
   "cell_type": "code",
   "execution_count": 55,
   "metadata": {},
   "outputs": [
    {
     "data": {
      "text/plain": [
       "True"
      ]
     },
     "execution_count": 55,
     "metadata": {},
     "output_type": "execute_result"
    }
   ],
   "source": [
    "img = cv2.imread(\"imori_noise.jpg\")\n",
    "\n",
    "# cv2.Gaussian(img, (kernel size), sigmaX, sigmaY)\n",
    "img = cv2.GaussianBlur(img, (3, 3), 1.3)\n",
    "\n",
    "cv2.imwrite(\"answer9.jpg\", img)"
   ]
  },
  {
   "cell_type": "markdown",
   "metadata": {},
   "source": [
    "# Q.10 メディアンフィルタ"
   ]
  },
  {
   "cell_type": "code",
   "execution_count": 54,
   "metadata": {},
   "outputs": [
    {
     "data": {
      "text/plain": [
       "True"
      ]
     },
     "execution_count": 54,
     "metadata": {},
     "output_type": "execute_result"
    }
   ],
   "source": [
    "def median_filter(img):\n",
    "    H, W, C = img.shape\n",
    "    \n",
    "    #zero padding\n",
    "    output = np.zeros((H+2, W+2, C), dtype=np.float)\n",
    "    output[1:1+H, 1:1+W] = img.copy().astype(np.float)\n",
    "    \n",
    "    tmp = output.copy()\n",
    "    \n",
    "    #filtering\n",
    "    for i in range(H):\n",
    "        for j in range(W):\n",
    "            for k in range(0, 3):\n",
    "                output[i+1, j+1, k] = np.median(tmp[i:i+3, j:j+3, k])\n",
    "     \n",
    "    output = output[1:H+1, 1:W+1].astype(np.uint8)\n",
    "    \n",
    "    return output\n",
    "\n",
    "img = cv2.imread(\"imori_noise.jpg\")\n",
    "img = median_filter(img)\n",
    "cv2.imwrite(\"answer10.jpg\", img)"
   ]
  },
  {
   "cell_type": "markdown",
   "metadata": {},
   "source": [
    "## opencvの場合"
   ]
  },
  {
   "cell_type": "code",
   "execution_count": 56,
   "metadata": {},
   "outputs": [
    {
     "data": {
      "text/plain": [
       "True"
      ]
     },
     "execution_count": 56,
     "metadata": {},
     "output_type": "execute_result"
    }
   ],
   "source": [
    "img = cv2.imread(\"imori_noise.jpg\")\n",
    "\n",
    "# cv2.medianBlur(img, kernel size)\n",
    "img = cv2.medianBlur(img, 3)\n",
    "\n",
    "cv2.imwrite(\"answer10.jpg\", img)"
   ]
  }
 ],
 "metadata": {
  "kernelspec": {
   "display_name": "Python 3",
   "language": "python",
   "name": "python3"
  },
  "language_info": {
   "codemirror_mode": {
    "name": "ipython",
    "version": 3
   },
   "file_extension": ".py",
   "mimetype": "text/x-python",
   "name": "python",
   "nbconvert_exporter": "python",
   "pygments_lexer": "ipython3",
   "version": "3.6.7"
  }
 },
 "nbformat": 4,
 "nbformat_minor": 2
}
