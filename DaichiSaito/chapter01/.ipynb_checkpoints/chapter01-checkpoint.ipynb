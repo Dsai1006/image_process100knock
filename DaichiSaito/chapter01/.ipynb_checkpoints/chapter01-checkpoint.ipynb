{
 "cells": [
  {
   "cell_type": "code",
   "execution_count": 1,
   "metadata": {},
   "outputs": [],
   "source": [
    "import numpy as np\n",
    "import cv2"
   ]
  },
  {
   "cell_type": "markdown",
   "metadata": {},
   "source": [
    "## Q.1 チャンネル入れ替え"
   ]
  },
  {
   "cell_type": "markdown",
   "metadata": {},
   "source": [
    "opencvはimreadするとRGBが反転したBGRで取り出される"
   ]
  },
  {
   "cell_type": "code",
   "execution_count": null,
   "metadata": {},
   "outputs": [],
   "source": [
    "def RGB2BGR(img):\n",
    "    #色取り出し\n",
    "    red = img[:, :, 2].copy()\n",
    "    green = img[:, :, 1].copy()\n",
    "    blue = img[:, :, 0].copy()\n",
    "    \n",
    "    #色入れ替え\n",
    "    img[:, :, 0] = red\n",
    "    img[:, :, 1] = green\n",
    "    img[:, :, 2] = blue\n",
    "\n",
    "    return img\n",
    "\n",
    "img = cv2.imread(\"imori.jpg\")\n",
    "img = RGB2BGR(img)\n",
    "\n",
    "#ファイル書き出し\n",
    "cv2.imwrite(\"answer1.jpg\", img)\n",
    "\n",
    "\n",
    "#画像見る\n",
    "#cv2.imshow(\"result\", img)\n",
    "#cv2.waitKey(0)\n",
    "#cv2.destroyAllWindows()"
   ]
  },
  {
   "cell_type": "markdown",
   "metadata": {},
   "source": [
    "## opencvでの書き方"
   ]
  },
  {
   "cell_type": "code",
   "execution_count": 2,
   "metadata": {
    "scrolled": true
   },
   "outputs": [
    {
     "data": {
      "text/plain": [
       "True"
      ]
     },
     "execution_count": 2,
     "metadata": {},
     "output_type": "execute_result"
    }
   ],
   "source": [
    "img = cv2.imread(\"imori.jpg\")\n",
    "\n",
    "img = cv2.cvtColor(img, cv2.COLOR_BGR2RGB)\n",
    "\n",
    "cv2.imwrite(\"answer1.jpg\", img)"
   ]
  },
  {
   "cell_type": "markdown",
   "metadata": {},
   "source": [
    " # Q.2 グレースケール化"
   ]
  },
  {
   "cell_type": "code",
   "execution_count": 7,
   "metadata": {},
   "outputs": [
    {
     "data": {
      "text/plain": [
       "True"
      ]
     },
     "execution_count": 7,
     "metadata": {},
     "output_type": "execute_result"
    }
   ],
   "source": [
    "def RGB2GRAY(img):\n",
    "    #色取り出し\n",
    "    red = img[:, :, 2].copy()\n",
    "    green = img[:, :, 1].copy()\n",
    "    blue = img[:, :, 0].copy()\n",
    "    \n",
    "    img = 0.2126*red + 0.7152*green + 0.0722*blue\n",
    "    img = img.astype(np.uint8)\n",
    "    \n",
    "    return img\n",
    "\n",
    "img = cv2.imread(\"imori.jpg\")\n",
    "img = RGB2GRAY(img)\n",
    "\n",
    "cv2.imwrite(\"answer2.jpg\", img)"
   ]
  },
  {
   "cell_type": "markdown",
   "metadata": {},
   "source": [
    "## opencvでの書き方"
   ]
  },
  {
   "cell_type": "code",
   "execution_count": 8,
   "metadata": {},
   "outputs": [
    {
     "data": {
      "text/plain": [
       "True"
      ]
     },
     "execution_count": 8,
     "metadata": {},
     "output_type": "execute_result"
    }
   ],
   "source": [
    "img = cv2.imread(\"imori.jpg\")\n",
    "\n",
    "img = cv2.cvtColor(img, cv2.COLOR_BGR2GRAY)\n",
    "\n",
    "cv2.imwrite(\"answer2.jpg\", img)"
   ]
  },
  {
   "cell_type": "markdown",
   "metadata": {},
   "source": [
    "# Q.3 二値化"
   ]
  },
  {
   "cell_type": "code",
   "execution_count": 11,
   "metadata": {},
   "outputs": [
    {
     "data": {
      "text/plain": [
       "True"
      ]
     },
     "execution_count": 11,
     "metadata": {},
     "output_type": "execute_result"
    }
   ],
   "source": [
    "def RGB2GRAY(img):\n",
    "    #色取り出し\n",
    "    red = img[:, :, 2].copy()\n",
    "    green = img[:, :, 1].copy()\n",
    "    blue = img[:, :, 0].copy()\n",
    "    \n",
    "    img = 0.2126*red + 0.7152*green + 0.0722*blue\n",
    "    img = img.astype(np.uint8)\n",
    "    \n",
    "    return img\n",
    "\n",
    "def binarization(img, th=128):\n",
    "    #グレースケール\n",
    "    img = RGB2GRAY(img)\n",
    "    \n",
    "    #np.where(条件式, Trueの場合, falseの場合)\n",
    "    img = np.where(img < th, 0, 255)\n",
    "    \n",
    "    return img\n",
    "\n",
    "img = cv2.imread(\"imori.jpg\")\n",
    "img = binarization(img)\n",
    "\n",
    "cv2.imwrite(\"answer3.jpg\", img)"
   ]
  },
  {
   "cell_type": "markdown",
   "metadata": {},
   "source": [
    "## opencvの場合"
   ]
  },
  {
   "cell_type": "code",
   "execution_count": 19,
   "metadata": {},
   "outputs": [
    {
     "data": {
      "text/plain": [
       "True"
      ]
     },
     "execution_count": 19,
     "metadata": {},
     "output_type": "execute_result"
    }
   ],
   "source": [
    "img = cv2.imread(\"imori.jpg\")\n",
    "\n",
    "#まずはグレースケール化\n",
    "img = cv2.cvtColor(img, cv2.COLOR_BGR2GRAY)\n",
    "\n",
    "#閾値処理\n",
    "threshold = 128\n",
    "ret, img = cv2.threshold(img, threshold, 255, cv2.THRESH_BINARY)\n",
    "\n",
    "cv2.imwrite(\"answer3.jpg\", img)"
   ]
  },
  {
   "cell_type": "code",
   "execution_count": 21,
   "metadata": {},
   "outputs": [
    {
     "name": "stdout",
     "output_type": "stream",
     "text": [
      "128.0\n"
     ]
    }
   ],
   "source": [
    "#ちなみにretは何だろう -> 閾値が返ってくる\n",
    "print(ret)"
   ]
  },
  {
   "cell_type": "markdown",
   "metadata": {},
   "source": [
    "# 大津の二値化"
   ]
  },
  {
   "cell_type": "code",
   "execution_count": 35,
   "metadata": {},
   "outputs": [
    {
     "name": "stdout",
     "output_type": "stream",
     "text": [
      "threshold =  127\n"
     ]
    },
    {
     "data": {
      "text/plain": [
       "True"
      ]
     },
     "execution_count": 35,
     "metadata": {},
     "output_type": "execute_result"
    }
   ],
   "source": [
    "def RGB2GRAY(img):\n",
    "    #色取り出し\n",
    "    red = img[:, :, 2].copy()\n",
    "    green = img[:, :, 1].copy()\n",
    "    blue = img[:, :, 0].copy()\n",
    "    \n",
    "    img = 0.2126*red + 0.7152*green + 0.0722*blue\n",
    "    img = img.astype(np.uint8)\n",
    "    \n",
    "    return img\n",
    "\n",
    "def otsu_binarization(img):\n",
    "    max_Sb = 0\n",
    "    max_t = 0\n",
    "    \n",
    "    img = RGB2GRAY(img)\n",
    "    \n",
    "    height = img.shape[0]\n",
    "    width = img.shape[1]\n",
    "    \n",
    "    for th in range(1, 255):\n",
    "        cls0 = img[img < th]\n",
    "        cls1 = img[img >= th]\n",
    "        \n",
    "        w0 = len(cls0) / (height * width)\n",
    "        w1 = len(cls1) / (height * width)\n",
    "        \n",
    "        M0  = np.mean(cls0) if len(cls0) > 0 else 0\n",
    "        M1 = np.mean(cls1) if len(cls1) > 0 else 0\n",
    "        \n",
    "        Sb = w0 * w1 * (M0 - M1)**2\n",
    "        \n",
    "        if max_Sb < Sb:\n",
    "            max_Sb = Sb\n",
    "            max_t = th\n",
    "            \n",
    "    #閾値処理\n",
    "    print(\"threshold = \", max_t)\n",
    "    img = np.where(img < max_t, 0, 255)\n",
    "    \n",
    "    return img\n",
    "\n",
    "img = cv2.imread(\"imori.jpg\")\n",
    "img = otsu_binarization(img)\n",
    "\n",
    "cv2.imwrite(\"answer4.jpg\", img)"
   ]
  },
  {
   "cell_type": "markdown",
   "metadata": {},
   "source": [
    "## opencvの場合"
   ]
  },
  {
   "cell_type": "code",
   "execution_count": 36,
   "metadata": {},
   "outputs": [
    {
     "name": "stdout",
     "output_type": "stream",
     "text": [
      "threshold =  129.0\n"
     ]
    }
   ],
   "source": [
    "img = cv2.imread(\"imori.jpg\")\n",
    "\n",
    "#まずはグレースケール化\n",
    "img = cv2.cvtColor(img, cv2.COLOR_BGR2GRAY)\n",
    "\n",
    "#閾値処理\n",
    "ret, img = cv2.threshold(img, 0, 255, cv2.THRESH_BINARY+cv2.THRESH_OTSU)\n",
    "\n",
    "cv2.imwrite(\"answer4.jpg\", img)\n",
    "print(\"threshold = \", ret)"
   ]
  },
  {
   "cell_type": "markdown",
   "metadata": {},
   "source": [
    "thresholdの値が違うものになった...."
   ]
  },
  {
   "cell_type": "markdown",
   "metadata": {},
   "source": [
    "# Q.5 HSV変換"
   ]
  },
  {
   "cell_type": "code",
   "execution_count": null,
   "metadata": {},
   "outputs": [],
   "source": []
  },
  {
   "cell_type": "markdown",
   "metadata": {},
   "source": [
    "# Q.6 減色処理"
   ]
  },
  {
   "cell_type": "code",
   "execution_count": 37,
   "metadata": {},
   "outputs": [
    {
     "data": {
      "text/plain": [
       "True"
      ]
     },
     "execution_count": 37,
     "metadata": {},
     "output_type": "execute_result"
    }
   ],
   "source": [
    "def gensyoku(img):\n",
    "    img = img // 64 * 64 + 32\n",
    "    return img\n",
    "\n",
    "img = cv2.imread(\"imori.jpg\")\n",
    "img = gensyoku(img)\n",
    "cv2.imwrite(\"answer6.jpg\", img)"
   ]
  },
  {
   "cell_type": "code",
   "execution_count": null,
   "metadata": {},
   "outputs": [],
   "source": []
  }
 ],
 "metadata": {
  "kernelspec": {
   "display_name": "Python 3",
   "language": "python",
   "name": "python3"
  },
  "language_info": {
   "codemirror_mode": {
    "name": "ipython",
    "version": 3
   },
   "file_extension": ".py",
   "mimetype": "text/x-python",
   "name": "python",
   "nbconvert_exporter": "python",
   "pygments_lexer": "ipython3",
   "version": "3.6.7"
  }
 },
 "nbformat": 4,
 "nbformat_minor": 2
}
