{
 "cells": [
  {
   "cell_type": "code",
   "execution_count": 49,
   "metadata": {},
   "outputs": [],
   "source": [
    "import numpy as np\n",
    "import cv2"
   ]
  },
  {
   "cell_type": "markdown",
   "metadata": {},
   "source": [
    "# Q.11 平滑化フィルタ"
   ]
  },
  {
   "cell_type": "code",
   "execution_count": 50,
   "metadata": {},
   "outputs": [
    {
     "data": {
      "text/plain": [
       "True"
      ]
     },
     "execution_count": 50,
     "metadata": {},
     "output_type": "execute_result"
    }
   ],
   "source": [
    "def smooth_filter(img):\n",
    "    H, W, C = img.shape\n",
    "    \n",
    "    #zero padding\n",
    "    output = np.zeros((H+2, W+2, C), dtype = np.float)\n",
    "    output[1:1+H, 1:1+W] = img.copy().astype(np.float)\n",
    "    \n",
    "    #create filter\n",
    "    kernel = np.ones((3, 3))\n",
    "    kernel /= 9\n",
    "    \n",
    "    tmp = output.copy()\n",
    "    \n",
    "    #filtering\n",
    "    for i in range(H):\n",
    "        for j in range(W):\n",
    "            for k in range(0, 3):\n",
    "                tmp[i+1, j+1, k] = np.sum(output[i:i+3, j:j+3, k].copy() * kernel)\n",
    "                \n",
    "    tmp = np.clip(tmp, 0, 255)\n",
    "                \n",
    "    output = tmp[1:1+H, 1:1+W].astype(np.uint8)\n",
    "    \n",
    "    return output\n",
    "\n",
    "img = cv2.imread(\"imori.jpg\")\n",
    "img = smooth_filter(img)\n",
    "cv2.imwrite(\"answers/answer11.jpg\", img)"
   ]
  },
  {
   "cell_type": "markdown",
   "metadata": {},
   "source": [
    "## opencvの場合"
   ]
  },
  {
   "cell_type": "code",
   "execution_count": 61,
   "metadata": {},
   "outputs": [
    {
     "data": {
      "text/plain": [
       "True"
      ]
     },
     "execution_count": 61,
     "metadata": {},
     "output_type": "execute_result"
    }
   ],
   "source": [
    "img = cv2.imread(\"imori.jpg\")\n",
    "\n",
    "img = cv2.blur(img, (3, 3))\n",
    "\n",
    "cv2.imwrite(\"answers/answer11.jpg\", img)"
   ]
  },
  {
   "cell_type": "markdown",
   "metadata": {},
   "source": [
    "# Q.12 モーションフィルタ"
   ]
  },
  {
   "cell_type": "code",
   "execution_count": 51,
   "metadata": {},
   "outputs": [
    {
     "data": {
      "text/plain": [
       "True"
      ]
     },
     "execution_count": 51,
     "metadata": {},
     "output_type": "execute_result"
    }
   ],
   "source": [
    "def motion_filter(img):\n",
    "    H, W, C = img.shape\n",
    "    \n",
    "    #zero padding\n",
    "    output = np.zeros((H+2, W+2, C), dtype=np.float)\n",
    "    output[1:1+H, 1:1+W] = img.copy().astype(np.float)\n",
    "    \n",
    "    #create filter\n",
    "    kernel = np.diag([1]*3).astype(np.float)\n",
    "    kernel /= 3\n",
    "    \n",
    "    tmp = output.copy()\n",
    "    \n",
    "    #filtering\n",
    "    for i in range(H):\n",
    "        for j in range(W):\n",
    "            for k in range(C):\n",
    "                tmp[1+i, 1+j, k] = np.sum(output[i:i+3, j:j+3, k].copy() * kernel)\n",
    "                \n",
    "    tmp = np.clip(tmp, 0, 255)\n",
    "    \n",
    "    output = tmp[1:1+H, 1:1+W].astype(np.uint8)\n",
    "    \n",
    "    return output\n",
    "\n",
    "img = cv2.imread(\"imori.jpg\")\n",
    "img = motion_filter(img)\n",
    "cv2.imwrite(\"answers/answer12.jpg\", img)"
   ]
  },
  {
   "cell_type": "markdown",
   "metadata": {},
   "source": [
    "## opencvの場合"
   ]
  },
  {
   "cell_type": "markdown",
   "metadata": {},
   "source": [
    "基本的にはフィルター作ってcv2.filter2D()をやるだけ\n",
    "第二引数には出力画像のbit深度を指定できる。負の値にすると入力画像と同じになる"
   ]
  },
  {
   "cell_type": "code",
   "execution_count": 62,
   "metadata": {},
   "outputs": [
    {
     "data": {
      "text/plain": [
       "True"
      ]
     },
     "execution_count": 62,
     "metadata": {},
     "output_type": "execute_result"
    }
   ],
   "source": [
    "img = cv2.imread(\"imori.jpg\")\n",
    "\n",
    "#create filter\n",
    "kernel = np.diag([1]*3).astype(np.float)\n",
    "kernel /= 3\n",
    "\n",
    "img = cv2.filter2D(img, -1, kernel)\n",
    "\n",
    "cv2.imwrite(\"answers/answer12.jpg\", img)"
   ]
  },
  {
   "cell_type": "markdown",
   "metadata": {},
   "source": [
    "# Q.13 MAX-MINフィルタ"
   ]
  },
  {
   "cell_type": "code",
   "execution_count": 52,
   "metadata": {},
   "outputs": [
    {
     "data": {
      "text/plain": [
       "True"
      ]
     },
     "execution_count": 52,
     "metadata": {},
     "output_type": "execute_result"
    }
   ],
   "source": [
    "def RGB2GRAY(img):\n",
    "    #色取り出し\n",
    "    red = img[:, :, 2].copy()\n",
    "    green = img[:, :, 1].copy()\n",
    "    blue = img[:, :, 0].copy()\n",
    "    \n",
    "    img = 0.2126*red + 0.7152*green + 0.0722*blue\n",
    "    img = img.astype(np.uint8)\n",
    "    \n",
    "    return img\n",
    "\n",
    "def MAX_MIN_filter(img):\n",
    "    img = RGB2GRAY(img)\n",
    "    \n",
    "    H, W = img.shape\n",
    "    \n",
    "    #zero padding\n",
    "    output = np.zeros((2+H, 2+W), dtype=np.float)\n",
    "    output[1:1+H, 1:1+W] = img.copy().astype(np.float)\n",
    "    \n",
    "    tmp = output.copy()\n",
    "    \n",
    "    #filtering\n",
    "    for i in range(H):\n",
    "        for j in range(W):\n",
    "            tmp[i+1, j+1] = np.max(output[i:i+3, j:j+3]) - np.min(output[i:i+3, j:j+3])\n",
    "            \n",
    "    tmp = np.clip(tmp, 0, 255)\n",
    "            \n",
    "    output = tmp[1:1+H, 1:1+W].astype(np.uint8)\n",
    "    \n",
    "    return output\n",
    "\n",
    "img = cv2.imread(\"imori.jpg\")\n",
    "img = MAX_MIN_filter(img)\n",
    "cv2.imwrite(\"answers/answer13.jpg\", img)"
   ]
  },
  {
   "cell_type": "markdown",
   "metadata": {},
   "source": [
    "## opencvの場合"
   ]
  },
  {
   "cell_type": "markdown",
   "metadata": {},
   "source": [
    "存在しなくね？"
   ]
  },
  {
   "cell_type": "markdown",
   "metadata": {},
   "source": [
    "# Q.14 微分フィルタ"
   ]
  },
  {
   "cell_type": "code",
   "execution_count": 53,
   "metadata": {},
   "outputs": [
    {
     "data": {
      "text/plain": [
       "True"
      ]
     },
     "execution_count": 53,
     "metadata": {},
     "output_type": "execute_result"
    }
   ],
   "source": [
    "def RGB2GRAY(img):\n",
    "    #色取り出し\n",
    "    red = img[:, :, 2].copy()\n",
    "    green = img[:, :, 1].copy()\n",
    "    blue = img[:, :, 0].copy()\n",
    "    \n",
    "    img = 0.2126*red + 0.7152*green + 0.0722*blue\n",
    "    img = img.astype(np.uint8)\n",
    "    \n",
    "    return img\n",
    "\n",
    "def bibun_filter(img):\n",
    "    img = RGB2GRAY(img)\n",
    "    \n",
    "    H, W = img.shape\n",
    "    \n",
    "    #zero padding\n",
    "    output_v = np.zeros((2+H, 2+W), dtype=np.float)\n",
    "    output_h = np.zeros((2+H, 2+W), dtype=np.float)\n",
    "    output_v[1:1+H, 1:1+W] = img.copy().astype(np.float)\n",
    "    output_h[1:1+H, 1:1+W] = img.copy().astype(np.float)\n",
    "    \n",
    "    tmp_v = output_v.copy()\n",
    "    tmp_h = output_h.copy()\n",
    "    \n",
    "    #create filter\n",
    "    kernel_v = np.array([[0, -1, 0], [0, 1, 0], [0, 0, 0]]).astype(np.float)\n",
    "    kernel_h = np.array([[0, 0, 0], [-1, 1, 0], [0, 0, 0]]).astype(np.float)\n",
    "    \n",
    "    #filtering\n",
    "    for i in range(H):\n",
    "        for j in range(W):\n",
    "            tmp_v[i+1, j+1] = np.sum(output_v[i:i+3, j:j+3] * kernel_v)\n",
    "            tmp_h[i+1, j+1] = np.sum(output_h[i:i+3, j:j+3] * kernel_h)\n",
    "            \n",
    "    tmp_v = np.clip(tmp_v, 0, 255)\n",
    "    tmp_h = np.clip(tmp_h, 0, 255)\n",
    "            \n",
    "    output_v = tmp_v[1:1+H, 1:1+W].astype(np.uint8)\n",
    "    output_h = tmp_h[1:1+H, 1:1+W].astype(np.uint8)\n",
    "    \n",
    "    return output_v, output_h\n",
    "\n",
    "img = cv2.imread(\"imori.jpg\")\n",
    "img_v, img_h = bibun_filter(img)\n",
    "cv2.imwrite(\"answers/answer14_v.jpg\", img_v)\n",
    "cv2.imwrite(\"answers/answer14_h.jpg\", img_h)"
   ]
  },
  {
   "cell_type": "markdown",
   "metadata": {},
   "source": [
    "np.clipの重要さを知った。。。"
   ]
  },
  {
   "cell_type": "markdown",
   "metadata": {},
   "source": [
    "## opencvの場合"
   ]
  },
  {
   "cell_type": "code",
   "execution_count": 64,
   "metadata": {},
   "outputs": [
    {
     "data": {
      "text/plain": [
       "True"
      ]
     },
     "execution_count": 64,
     "metadata": {},
     "output_type": "execute_result"
    }
   ],
   "source": [
    "img = cv2.imread(\"imori.jpg\")\n",
    "\n",
    "kernel_v = np.array([[0, -1, 0], [0, 1, 0], [0, 0, 0]])\n",
    "kernel_h = np.array([[0, 0, 0], [-1, 1, 0], [0, 0, 0]])\n",
    "\n",
    "img_v = cv2.filter2D(img, -1, kernel_v)\n",
    "img_h = cv2.filter2D(img, -1, kernel_h)\n",
    "\n",
    "cv2.imwrite(\"answers/answer14_v.jpg\", img_v)\n",
    "cv2.imwrite(\"answers/answer14_h.jpg\", img_h)"
   ]
  },
  {
   "cell_type": "markdown",
   "metadata": {},
   "source": [
    "# Sobelフィルタ"
   ]
  },
  {
   "cell_type": "code",
   "execution_count": 54,
   "metadata": {},
   "outputs": [
    {
     "data": {
      "text/plain": [
       "True"
      ]
     },
     "execution_count": 54,
     "metadata": {},
     "output_type": "execute_result"
    }
   ],
   "source": [
    "def RGB2GRAY(img):\n",
    "    #色取り出し\n",
    "    red = img[:, :, 2].copy()\n",
    "    green = img[:, :, 1].copy()\n",
    "    blue = img[:, :, 0].copy()\n",
    "    \n",
    "    img = 0.2126*red + 0.7152*green + 0.0722*blue\n",
    "    img = img.astype(np.uint8)\n",
    "    \n",
    "    return img\n",
    "\n",
    "def sobel_filter(img):\n",
    "    img = RGB2GRAY(img)\n",
    "    \n",
    "    H, W = img.shape\n",
    "    \n",
    "    #zero padding\n",
    "    output_v = np.zeros((2+H, 2+W), dtype=np.float)\n",
    "    output_h = np.zeros((2+H, 2+W), dtype=np.float)\n",
    "    output_v[1:1+H, 1:1+W] = img.copy().astype(np.float)\n",
    "    output_h[1:1+H, 1:1+W] = img.copy().astype(np.float)\n",
    "    \n",
    "    tmp_v = output_v.copy()\n",
    "    tmp_h = output_h.copy()\n",
    "    \n",
    "    #create filter\n",
    "    kernel_v = np.array([[1, 2, 1], [0, 0, 0], [-1, -2, -1]]).astype(np.float)\n",
    "    kernel_h = np.array([[1, 0, -1], [2, 0, -2], [1, 0, -1]]).astype(np.float)\n",
    "    \n",
    "    #filtering\n",
    "    for i in range(H):\n",
    "        for j in range(W):\n",
    "            tmp_v[i+1, j+1] = np.sum(output_v[i:i+3, j:j+3] * kernel_v)\n",
    "            tmp_h[i+1, j+1] = np.sum(output_h[i:i+3, j:j+3] * kernel_h)\n",
    "            \n",
    "    tmp_v = np.clip(tmp_v, 0, 255)\n",
    "    tmp_h = np.clip(tmp_h, 0, 255)\n",
    "            \n",
    "    output_v = tmp_v[1:1+H, 1:1+W].astype(np.uint8)\n",
    "    output_h = tmp_h[1:1+H, 1:1+W].astype(np.uint8)\n",
    "    \n",
    "    return output_v, output_h\n",
    "\n",
    "img = cv2.imread(\"imori.jpg\")\n",
    "img_v, img_h = sobel_filter(img)\n",
    "cv2.imwrite(\"answers/answer15_v.jpg\", img_v)\n",
    "cv2.imwrite(\"answers/answer15_h.jpg\", img_h)"
   ]
  },
  {
   "cell_type": "markdown",
   "metadata": {},
   "source": [
    "## opencvの場合"
   ]
  },
  {
   "cell_type": "code",
   "execution_count": 72,
   "metadata": {},
   "outputs": [
    {
     "data": {
      "text/plain": [
       "True"
      ]
     },
     "execution_count": 72,
     "metadata": {},
     "output_type": "execute_result"
    }
   ],
   "source": [
    "img = cv2.imread(\"imori.jpg\")\n",
    "\n",
    "img = cv2.cvtColor(img, cv2.COLOR_BGR2GRAY)\n",
    "\n",
    "img_v = cv2.Sobel(img, -1, 1, 0, ksize=3)\n",
    "img_h = cv2.Sobel(img, -1, 0, 1, ksize=3)\n",
    "\n",
    "cv2.imwrite(\"answer15_v.jpg\", img_v)\n",
    "cv2.imwrite(\"answer15_h.jpg\", img_h)"
   ]
  },
  {
   "cell_type": "markdown",
   "metadata": {},
   "source": [
    "# Q.16 Prewittフィルタ"
   ]
  },
  {
   "cell_type": "code",
   "execution_count": 55,
   "metadata": {},
   "outputs": [
    {
     "data": {
      "text/plain": [
       "True"
      ]
     },
     "execution_count": 55,
     "metadata": {},
     "output_type": "execute_result"
    }
   ],
   "source": [
    "def RGB2GRAY(img):\n",
    "    #色取り出し\n",
    "    red = img[:, :, 2].copy()\n",
    "    green = img[:, :, 1].copy()\n",
    "    blue = img[:, :, 0].copy()\n",
    "    \n",
    "    img = 0.2126*red + 0.7152*green + 0.0722*blue\n",
    "    img = img.astype(np.uint8)\n",
    "    \n",
    "    return img\n",
    "\n",
    "def prewitt_filter(img):\n",
    "    img = RGB2GRAY(img)\n",
    "    \n",
    "    H, W = img.shape\n",
    "    \n",
    "    #zero padding\n",
    "    output_v = np.zeros((2+H, 2+W), dtype=np.float)\n",
    "    output_h = np.zeros((2+H, 2+W), dtype=np.float)\n",
    "    output_v[1:1+H, 1:1+W] = img.copy().astype(np.float)\n",
    "    output_h[1:1+H, 1:1+W] = img.copy().astype(np.float)\n",
    "    \n",
    "    tmp_v = output_v.copy()\n",
    "    tmp_h = output_h.copy()\n",
    "    \n",
    "    #create filter\n",
    "    kernel_v = np.array([[-1, -1, -1], [0, 0, 0], [1, 1, 1]]).astype(np.float)\n",
    "    kernel_h = np.array([[-1, 0, 1], [-1, 0, 1], [-1, 0, 1]]).astype(np.float)\n",
    "    \n",
    "    #filtering\n",
    "    for i in range(H):\n",
    "        for j in range(W):\n",
    "            tmp_v[i+1, j+1] = np.sum(output_v[i:i+3, j:j+3] * kernel_v)\n",
    "            tmp_h[i+1, j+1] = np.sum(output_h[i:i+3, j:j+3] * kernel_h)\n",
    "            \n",
    "    tmp_v = np.clip(tmp_v, 0, 255)\n",
    "    tmp_h = np.clip(tmp_h, 0, 255)\n",
    "            \n",
    "    output_v = tmp_v[1:1+H, 1:1+W].astype(np.uint8)\n",
    "    output_h = tmp_h[1:1+H, 1:1+W].astype(np.uint8)\n",
    "    \n",
    "    return output_v, output_h\n",
    "\n",
    "img = cv2.imread(\"imori.jpg\")\n",
    "img_v, img_h = sobel_filter(img)\n",
    "cv2.imwrite(\"answers/answer16_v.jpg\", img_v)\n",
    "cv2.imwrite(\"answers/answer16_h.jpg\", img_h)"
   ]
  },
  {
   "cell_type": "markdown",
   "metadata": {},
   "source": [
    "## opencvの場合"
   ]
  },
  {
   "cell_type": "code",
   "execution_count": 75,
   "metadata": {},
   "outputs": [
    {
     "data": {
      "text/plain": [
       "True"
      ]
     },
     "execution_count": 75,
     "metadata": {},
     "output_type": "execute_result"
    }
   ],
   "source": [
    "img = cv2.imread(\"imori.jpg\")\n",
    "\n",
    "img = cv2.cvtColor(img, cv2.COLOR_BGR2GRAY)\n",
    "\n",
    "kernel_v = np.array([[-1, -1, -1], [0, 0, 0], [1, 1, 1]])\n",
    "kernel_h = np.array([[-1, 0, 1], [-1, 0, 1], [-1, 0, 1]])\n",
    "\n",
    "img_v = cv2.filter2D(img, -1, kernel_v)\n",
    "img_h = cv2.filter2D(img, -1, kernel_h)\n",
    "\n",
    "cv2.imwrite(\"answer16_v.jpg\", img_v)\n",
    "cv2.imwrite(\"answer16_h.jpg\", img_h)"
   ]
  },
  {
   "cell_type": "markdown",
   "metadata": {},
   "source": [
    "# Q.17 Laplacianフィルタ"
   ]
  },
  {
   "cell_type": "code",
   "execution_count": 56,
   "metadata": {
    "scrolled": true
   },
   "outputs": [
    {
     "data": {
      "text/plain": [
       "True"
      ]
     },
     "execution_count": 56,
     "metadata": {},
     "output_type": "execute_result"
    }
   ],
   "source": [
    "def RGB2GRAY(img):\n",
    "    #色取り出し\n",
    "    red = img[:, :, 2].copy()\n",
    "    green = img[:, :, 1].copy()\n",
    "    blue = img[:, :, 0].copy()\n",
    "    \n",
    "    img = 0.2126*red + 0.7152*green + 0.0722*blue\n",
    "    img = img.astype(np.uint8)\n",
    "    \n",
    "    return img\n",
    "\n",
    "def Laplacian_filter(img):\n",
    "    img = RGB2GRAY(img)\n",
    "    \n",
    "    H, W = img.shape\n",
    "    \n",
    "    #zero padding\n",
    "    output = np.zeros((2+H, 2+W), dtype=np.float)\n",
    "    output[1:1+H, 1:1+W] = img.copy().astype(np.float)\n",
    "    \n",
    "    #create kernel\n",
    "    kernel = np.array([[0, 1, 0], [1, -4, 1], [0, 1, 0]])\n",
    "    \n",
    "    tmp = output.copy()\n",
    "    \n",
    "    #filtering\n",
    "    for i in range(H):\n",
    "        for j in range(W):\n",
    "            tmp[i+1, j+1] = np.sum(output[i:i+3, j:j+3] * kernel)\n",
    "            \n",
    "    tmp = np.clip(tmp, 0, 255)\n",
    "            \n",
    "    output = tmp[1:1+H, 1:1+W].astype(np.uint8)\n",
    "    \n",
    "    return output\n",
    "\n",
    "img = cv2.imread(\"imori.jpg\")\n",
    "img = Laplacian_filter(img)\n",
    "cv2.imwrite(\"answers/answer17.jpg\", img)"
   ]
  },
  {
   "cell_type": "markdown",
   "metadata": {},
   "source": [
    "## opencvの場合"
   ]
  },
  {
   "cell_type": "code",
   "execution_count": 73,
   "metadata": {},
   "outputs": [
    {
     "data": {
      "text/plain": [
       "True"
      ]
     },
     "execution_count": 73,
     "metadata": {},
     "output_type": "execute_result"
    }
   ],
   "source": [
    "img = cv2.imread(\"imori.jpg\")\n",
    "\n",
    "img = cv2.cvtColor(img, cv2.COLOR_BGR2GRAY)\n",
    "\n",
    "img = cv2.Laplacian(img, -1, ksize=3)\n",
    "\n",
    "cv2.imwrite(\"answer17.jpg\", img_v)"
   ]
  },
  {
   "cell_type": "markdown",
   "metadata": {},
   "source": [
    "# Q.18 Embossフィルタ"
   ]
  },
  {
   "cell_type": "code",
   "execution_count": 57,
   "metadata": {},
   "outputs": [
    {
     "data": {
      "text/plain": [
       "True"
      ]
     },
     "execution_count": 57,
     "metadata": {},
     "output_type": "execute_result"
    }
   ],
   "source": [
    "def RGB2GRAY(img):\n",
    "    #色取り出し\n",
    "    red = img[:, :, 2].copy()\n",
    "    green = img[:, :, 1].copy()\n",
    "    blue = img[:, :, 0].copy()\n",
    "    \n",
    "    img = 0.2126*red + 0.7152*green + 0.0722*blue\n",
    "    img = img.astype(np.uint8)\n",
    "    \n",
    "    return img\n",
    "\n",
    "def Emboss_filter(img):\n",
    "    img = RGB2GRAY(img)\n",
    "    \n",
    "    H, W = img.shape\n",
    "    \n",
    "    #zero padding\n",
    "    output = np.zeros((2+H, 2+W), dtype=np.float)\n",
    "    output[1:1+H, 1:1+W] = img.copy().astype(np.float)\n",
    "    \n",
    "    #create kernel\n",
    "    kernel = np.array([[-2, -1, 0], [-1, 1, 1], [0, 1, 2]])\n",
    "    \n",
    "    tmp = output.copy()\n",
    "    \n",
    "    #filtering\n",
    "    for i in range(H):\n",
    "        for j in range(W):\n",
    "            tmp[i+1, j+1] = np.sum(output[i:i+3, j:j+3] * kernel)\n",
    "            \n",
    "    tmp = np.clip(tmp, 0, 255)\n",
    "            \n",
    "    output = tmp[1:1+H, 1:1+W].astype(np.uint8)\n",
    "    \n",
    "    return output\n",
    "\n",
    "img = cv2.imread(\"imori.jpg\")\n",
    "img = Emboss_filter(img)\n",
    "cv2.imwrite(\"answers/answer18.jpg\", img)"
   ]
  },
  {
   "cell_type": "markdown",
   "metadata": {},
   "source": [
    "## opencvの場合"
   ]
  },
  {
   "cell_type": "code",
   "execution_count": 76,
   "metadata": {},
   "outputs": [
    {
     "data": {
      "text/plain": [
       "True"
      ]
     },
     "execution_count": 76,
     "metadata": {},
     "output_type": "execute_result"
    }
   ],
   "source": [
    "img = cv2.imread(\"imori.jpg\")\n",
    "\n",
    "img = cv2.cvtColor(img, cv2.COLOR_BGR2GRAY)\n",
    "\n",
    "kernel = np.array([[-2, -1, 0], [-1, 1, 1], [0, 1, 2]])\n",
    "\n",
    "img = cv2.filter2D(img, -1, kernel)\n",
    "\n",
    "cv2.imwrite(\"answers/answer18.jpg\", img)"
   ]
  },
  {
   "cell_type": "markdown",
   "metadata": {},
   "source": [
    "# Q.19 LoGフィルタ"
   ]
  },
  {
   "cell_type": "code",
   "execution_count": 58,
   "metadata": {},
   "outputs": [
    {
     "data": {
      "text/plain": [
       "True"
      ]
     },
     "execution_count": 58,
     "metadata": {},
     "output_type": "execute_result"
    }
   ],
   "source": [
    "def RGB2GRAY(img):\n",
    "    #色取り出し\n",
    "    red = img[:, :, 2].copy()\n",
    "    green = img[:, :, 1].copy()\n",
    "    blue = img[:, :, 0].copy()\n",
    "    \n",
    "    img = 0.2126*red + 0.7152*green + 0.0722*blue\n",
    "    img = img.astype(np.uint8)\n",
    "    \n",
    "    return img\n",
    "\n",
    "def LoG(x, y, s):\n",
    "    return (x**2 + y**2 - s**2) / (2 * np.pi * pow(s, 6)) * np.exp(-(x**2 + y**2) / (2 * s**2))\n",
    "\n",
    "def LoG_filter(img):\n",
    "    img = RGB2GRAY(img)\n",
    "    \n",
    "    H, W = img.shape\n",
    "    \n",
    "    #zero padding\n",
    "    output = np.zeros((4+H, 4+W), dtype=np.float)\n",
    "    output[2:2+H, 2:2+W] = img.copy().astype(np.float)\n",
    "    \n",
    "    #create filter\n",
    "    kernel = np.zeros((5, 5), dtype=np.float)\n",
    "    for i in range(-2, 3):\n",
    "        for j in range(-2, 3):\n",
    "            kernel[2+i, 2+j] = LoG(i, j, 3)\n",
    "    kernel /= kernel.sum()\n",
    "    \n",
    "    tmp = output.copy()\n",
    "    \n",
    "    #filtering\n",
    "    for i in range(H):\n",
    "        for j in range(W):\n",
    "            tmp[i+2, j+2] = np.sum(kernel * output[i:i+5, j:j+5])\n",
    "    \n",
    "    tmp = np.clip(tmp, 0, 255)\n",
    "    \n",
    "    output = tmp[2:2+H, 2:2+W]\n",
    "    \n",
    "    return output\n",
    "\n",
    "img = cv2.imread(\"imori_noise.jpg\")\n",
    "img = LoG_filter(img)\n",
    "cv2.imwrite(\"answers/answer19.jpg\", img)"
   ]
  },
  {
   "cell_type": "markdown",
   "metadata": {},
   "source": [
    "## opencvの場合"
   ]
  },
  {
   "cell_type": "code",
   "execution_count": 78,
   "metadata": {},
   "outputs": [
    {
     "data": {
      "text/plain": [
       "True"
      ]
     },
     "execution_count": 78,
     "metadata": {},
     "output_type": "execute_result"
    }
   ],
   "source": [
    "img = cv2.imread(\"imori_noise.jpg\")\n",
    "\n",
    "img = cv2.cvtColor(img, cv2.COLOR_BGR2GRAY)\n",
    "\n",
    "kernel = np.zeros((5, 5), dtype=np.float)\n",
    "for i in range(-2, 3):\n",
    "    for j in range(-2, 3):\n",
    "        kernel[2+i, 2+j] = LoG(i, j, 3)\n",
    "kernel /= kernel.sum()\n",
    "\n",
    "img = cv2.filter2D(img, -1, kernel)\n",
    "\n",
    "cv2.imwrite(\"answers/answer19.jpg\", img)"
   ]
  },
  {
   "cell_type": "markdown",
   "metadata": {},
   "source": [
    "# Q.20 ヒストグラム表示"
   ]
  },
  {
   "cell_type": "code",
   "execution_count": 59,
   "metadata": {
    "scrolled": false
   },
   "outputs": [
    {
     "data": {
      "image/png": "[encoded data removed]",
      "text/plain": [
       "<Figure size 432x288 with 1 Axes>"
      ]
     },
     "metadata": {
      "needs_background": "light"
     },
     "output_type": "display_data"
    }
   ],
   "source": [
    "import matplotlib.pyplot as plt\n",
    "%matplotlib inline\n",
    "\n",
    "img = cv2.imread(\"imori_dark.jpg\").astype(np.float)\n",
    "plt.hist(img.ravel(), bins=255, rwidth=0.8, range=(0, 255))\n",
    "plt.savefig(\"answers/answer20.jpg\")\n",
    "plt.show()"
   ]
  }
 ],
 "metadata": {
  "kernelspec": {
   "display_name": "Python 3",
   "language": "python",
   "name": "python3"
  },
  "language_info": {
   "codemirror_mode": {
    "name": "ipython",
    "version": 3
   },
   "file_extension": ".py",
   "mimetype": "text/x-python",
   "name": "python",
   "nbconvert_exporter": "python",
   "pygments_lexer": "ipython3",
   "version": "3.6.7"
  }
 },
 "nbformat": 4,
 "nbformat_minor": 2
}
